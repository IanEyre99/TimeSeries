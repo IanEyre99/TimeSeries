{
 "cells": [
  {
   "cell_type": "code",
   "execution_count": 2,
   "id": "4cd0d0bb",
   "metadata": {},
   "outputs": [
    {
     "name": "stdout",
     "output_type": "stream",
     "text": [
      "Requirement already satisfied: pandas in d:\\pycharmprojects\\time_series\\lib\\site-packages (1.5.3)\n",
      "Requirement already satisfied: python-dateutil>=2.8.1 in d:\\pycharmprojects\\time_series\\lib\\site-packages (from pandas) (2.8.2)\n",
      "Requirement already satisfied: pytz>=2020.1 in d:\\pycharmprojects\\time_series\\lib\\site-packages (from pandas) (2022.7.1)\n",
      "Requirement already satisfied: numpy>=1.20.3 in d:\\pycharmprojects\\time_series\\lib\\site-packages (from pandas) (1.24.2)\n",
      "Requirement already satisfied: six>=1.5 in d:\\pycharmprojects\\time_series\\lib\\site-packages (from python-dateutil>=2.8.1->pandas) (1.16.0)\n"
     ]
    },
    {
     "name": "stderr",
     "output_type": "stream",
     "text": [
      "WARNING: You are using pip version 21.1.2; however, version 23.0.1 is available.\n",
      "You should consider upgrading via the 'D:\\PycharmProjects\\Time_Series\\Scripts\\python.exe -m pip install --upgrade pip' command.\n"
     ]
    },
    {
     "name": "stdout",
     "output_type": "stream",
     "text": [
      "Requirement already satisfied: numpy in d:\\pycharmprojects\\time_series\\lib\\site-packages (1.24.2)\n"
     ]
    },
    {
     "name": "stderr",
     "output_type": "stream",
     "text": [
      "WARNING: You are using pip version 21.1.2; however, version 23.0.1 is available.\n",
      "You should consider upgrading via the 'D:\\PycharmProjects\\Time_Series\\Scripts\\python.exe -m pip install --upgrade pip' command.\n"
     ]
    }
   ],
   "source": [
    "! pip install pandas\n",
    "! pip install numpy"
   ]
  },
  {
   "cell_type": "code",
   "execution_count": 16,
   "id": "16c17208",
   "metadata": {},
   "outputs": [
    {
     "name": "stdout",
     "output_type": "stream",
     "text": [
      "2023-12-31\n",
      "17:15:05.000100\n",
      "2023-12-31 17:15:05.000100\n",
      "2023-03-01 10:14:47.650056\n",
      "2023-03-01\n",
      "10:14:47.650056\n",
      "2023-03-01 10:14:47.650057\n",
      "2023-03-01\n",
      "10:14:47.650057\n"
     ]
    }
   ],
   "source": [
    "import datetime\n",
    "\n",
    "hogmanay = datetime.date(2023, 12, 31)\n",
    "teatime = datetime.time(17, 15, 5, 100)\n",
    "fulltime = datetime.datetime(2023, 12, 31, 17, 15, 5, 100)\n",
    "\n",
    "print(hogmanay)\n",
    "print(teatime)\n",
    "print(fulltime)\n",
    "\n",
    "datetime_today = datetime.datetime.now()\n",
    "\n",
    "print(datetime_today)\n",
    "print(datetime_today.date())\n",
    "print(datetime_today.time())\n",
    "\n",
    "# or\n",
    "datetime_today = datetime.datetime.today()\n",
    "\n",
    "print(datetime_today)\n",
    "print(datetime_today.date())\n",
    "print(datetime_today.time())"
   ]
  },
  {
   "cell_type": "markdown",
   "id": "2cbecd7e",
   "metadata": {},
   "source": [
    "delta = timedelta(\n",
    "\n",
    "    days=50,\n",
    "\n",
    "    seconds=27,\n",
    "\n",
    "    microseconds=10,\n",
    "\n",
    "    milliseconds=29000,\n",
    "\n",
    "    minutes=5,\n",
    "\n",
    "    hours=8,\n",
    "\n",
    "    weeks=2\n",
    ")"
   ]
  },
  {
   "cell_type": "code",
   "execution_count": 34,
   "id": "380d5b98",
   "metadata": {},
   "outputs": [
    {
     "name": "stdout",
     "output_type": "stream",
     "text": [
      "19 days, 21:00:00\n",
      "19\n",
      "75600\n",
      "0\n",
      "2023-06-04 09:00:00\n"
     ]
    }
   ],
   "source": [
    "import datetime\n",
    "\n",
    "start = datetime.datetime(2023, 5, 15, 12, 0)\n",
    "end = datetime.datetime(2023, 6, 4, 9, 0)\n",
    " \n",
    "difference = end - start\n",
    "\n",
    "print(difference) # timedelta object\n",
    "\n",
    "print(difference.days)\n",
    "print(difference.seconds)\n",
    "print(difference.microseconds)\n",
    "\n",
    "# Note years, weeks, minutes and hours are not stored. So difference.hours is an error.\n",
    "\n",
    "# We can also add TimeDeltas to time.\n",
    "end2 = start + difference\n",
    "\n",
    "print(end2) # The result is a DateTime."
   ]
  },
  {
   "cell_type": "code",
   "execution_count": 37,
   "id": "d9c339cf",
   "metadata": {},
   "outputs": [
    {
     "name": "stdout",
     "output_type": "stream",
     "text": [
      "2023-05-15 12:00:00 <class 'datetime.datetime'>\n",
      "2023-06-04 09:00:00 <class 'datetime.datetime'>\n",
      "19 days, 21:00:00 <class 'datetime.timedelta'>\n",
      "2023-05-15 12:00:00 <class 'str'>\n",
      "2023-06-04 09:00:00 <class 'str'>\n",
      "19 days, 21:00:00 <class 'str'>\n"
     ]
    }
   ],
   "source": [
    "import datetime\n",
    "\n",
    "start = datetime.datetime(2023, 5, 15, 12, 0)\n",
    "end = datetime.datetime(2023, 6, 4, 9, 0)\n",
    "difference = end - start\n",
    "\n",
    "print(start, type(start))\n",
    "print(end, type(end))\n",
    "print(difference, type(difference))\n",
    "\n",
    "s_start = str(start)\n",
    "s_end = str(end)\n",
    "s_difference = str(difference)\n",
    "\n",
    "print(s_start, type(s_start))\n",
    "print(s_end, type(s_end))\n",
    "print(s_difference, type(s_difference))"
   ]
  },
  {
   "cell_type": "code",
   "execution_count": 52,
   "id": "87b4ada9",
   "metadata": {},
   "outputs": [
    {
     "name": "stdout",
     "output_type": "stream",
     "text": [
      "2023-03-01 11:10:42.997098\n",
      "01/03/2023 11:10\n",
      "Wed Mar  1 11:10:42 2023\n"
     ]
    }
   ],
   "source": [
    "import datetime\n",
    "\n",
    "today = datetime.datetime.today()\n",
    "\n",
    "print(today)\n",
    "print(today.strftime('%d/%m/%Y %H:%M'))\n",
    "print(today.strftime('%c'))"
   ]
  },
  {
   "cell_type": "code",
   "execution_count": 53,
   "id": "1e6b95a4",
   "metadata": {},
   "outputs": [
    {
     "name": "stdout",
     "output_type": "stream",
     "text": [
      "2023-12-25 00:00:00 <class 'datetime.datetime'>\n"
     ]
    }
   ],
   "source": [
    "# strptime to convert date into datetime\n",
    "\n",
    "import datetime\n",
    "christmas = \"25th-12-2023\"\n",
    "\n",
    "christmas_date = datetime.datetime.strptime(christmas, '%dth-%m-%Y')\n",
    "\n",
    "print(christmas_date, type(christmas_date))"
   ]
  },
  {
   "cell_type": "code",
   "execution_count": 68,
   "id": "d01b1fc8",
   "metadata": {},
   "outputs": [
    {
     "name": "stdout",
     "output_type": "stream",
     "text": [
      "2023-05-15 12:00:00\n",
      "2023-01-03 11:10:00\n",
      "2023-03-01 11:10:42\n",
      "2023-03-01 11:10:42\n",
      "2023-03-01 11:10:42\n",
      "2023-03-01 11:10:42\n",
      "None\n"
     ]
    },
    {
     "ename": "ParserError",
     "evalue": "Unknown string format: Hello World present at position 0",
     "output_type": "error",
     "traceback": [
      "\u001b[1;31m---------------------------------------------------------------------------\u001b[0m",
      "\u001b[1;31mParserError\u001b[0m                               Traceback (most recent call last)",
      "\u001b[1;32mc:\\users\\ian\\appdata\\local\\programs\\python\\python39\\lib\\site-packages\\pandas\\_libs\\tslib.pyx\u001b[0m in \u001b[0;36mpandas._libs.tslib.array_to_datetime\u001b[1;34m()\u001b[0m\n",
      "\u001b[1;32mc:\\users\\ian\\appdata\\local\\programs\\python\\python39\\lib\\site-packages\\pandas\\_libs\\tslibs\\parsing.pyx\u001b[0m in \u001b[0;36mpandas._libs.tslibs.parsing.parse_datetime_string\u001b[1;34m()\u001b[0m\n",
      "\u001b[1;32mc:\\users\\ian\\appdata\\local\\programs\\python\\python39\\lib\\site-packages\\dateutil\\parser\\_parser.py\u001b[0m in \u001b[0;36mparse\u001b[1;34m(timestr, parserinfo, **kwargs)\u001b[0m\n\u001b[0;32m   1367\u001b[0m     \u001b[1;32melse\u001b[0m\u001b[1;33m:\u001b[0m\u001b[1;33m\u001b[0m\u001b[1;33m\u001b[0m\u001b[0m\n\u001b[1;32m-> 1368\u001b[1;33m         \u001b[1;32mreturn\u001b[0m \u001b[0mDEFAULTPARSER\u001b[0m\u001b[1;33m.\u001b[0m\u001b[0mparse\u001b[0m\u001b[1;33m(\u001b[0m\u001b[0mtimestr\u001b[0m\u001b[1;33m,\u001b[0m \u001b[1;33m**\u001b[0m\u001b[0mkwargs\u001b[0m\u001b[1;33m)\u001b[0m\u001b[1;33m\u001b[0m\u001b[1;33m\u001b[0m\u001b[0m\n\u001b[0m\u001b[0;32m   1369\u001b[0m \u001b[1;33m\u001b[0m\u001b[0m\n",
      "\u001b[1;32mc:\\users\\ian\\appdata\\local\\programs\\python\\python39\\lib\\site-packages\\dateutil\\parser\\_parser.py\u001b[0m in \u001b[0;36mparse\u001b[1;34m(self, timestr, default, ignoretz, tzinfos, **kwargs)\u001b[0m\n\u001b[0;32m    642\u001b[0m         \u001b[1;32mif\u001b[0m \u001b[0mres\u001b[0m \u001b[1;32mis\u001b[0m \u001b[1;32mNone\u001b[0m\u001b[1;33m:\u001b[0m\u001b[1;33m\u001b[0m\u001b[1;33m\u001b[0m\u001b[0m\n\u001b[1;32m--> 643\u001b[1;33m             \u001b[1;32mraise\u001b[0m \u001b[0mParserError\u001b[0m\u001b[1;33m(\u001b[0m\u001b[1;34m\"Unknown string format: %s\"\u001b[0m\u001b[1;33m,\u001b[0m \u001b[0mtimestr\u001b[0m\u001b[1;33m)\u001b[0m\u001b[1;33m\u001b[0m\u001b[1;33m\u001b[0m\u001b[0m\n\u001b[0m\u001b[0;32m    644\u001b[0m \u001b[1;33m\u001b[0m\u001b[0m\n",
      "\u001b[1;31mParserError\u001b[0m: Unknown string format: Hello World",
      "\nDuring handling of the above exception, another exception occurred:\n",
      "\u001b[1;31mTypeError\u001b[0m                                 Traceback (most recent call last)",
      "\u001b[1;32mc:\\users\\ian\\appdata\\local\\programs\\python\\python39\\lib\\site-packages\\pandas\\_libs\\tslib.pyx\u001b[0m in \u001b[0;36mpandas._libs.tslib.array_to_datetime\u001b[1;34m()\u001b[0m\n",
      "\u001b[1;31mTypeError\u001b[0m: invalid string coercion to datetime for \"Hello World\" at position 0",
      "\nDuring handling of the above exception, another exception occurred:\n",
      "\u001b[1;31mParserError\u001b[0m                               Traceback (most recent call last)",
      "\u001b[1;32m~\\AppData\\Local\\Temp/ipykernel_29312/514617421.py\u001b[0m in \u001b[0;36m<module>\u001b[1;34m\u001b[0m\n\u001b[0;32m     14\u001b[0m \u001b[1;33m\u001b[0m\u001b[0m\n\u001b[0;32m     15\u001b[0m \u001b[1;32mfor\u001b[0m \u001b[0melement\u001b[0m \u001b[1;32min\u001b[0m \u001b[0mstr_list\u001b[0m\u001b[1;33m:\u001b[0m\u001b[1;33m\u001b[0m\u001b[1;33m\u001b[0m\u001b[0m\n\u001b[1;32m---> 16\u001b[1;33m     \u001b[0mprint\u001b[0m\u001b[1;33m(\u001b[0m\u001b[0mpd\u001b[0m\u001b[1;33m.\u001b[0m\u001b[0mto_datetime\u001b[0m\u001b[1;33m(\u001b[0m\u001b[0melement\u001b[0m\u001b[1;33m)\u001b[0m\u001b[1;33m)\u001b[0m\u001b[1;33m\u001b[0m\u001b[1;33m\u001b[0m\u001b[0m\n\u001b[0m\u001b[0;32m     17\u001b[0m \u001b[1;33m\u001b[0m\u001b[0m\n\u001b[0;32m     18\u001b[0m \u001b[1;33m\u001b[0m\u001b[0m\n",
      "\u001b[1;32mc:\\users\\ian\\appdata\\local\\programs\\python\\python39\\lib\\site-packages\\pandas\\core\\tools\\datetimes.py\u001b[0m in \u001b[0;36mto_datetime\u001b[1;34m(arg, errors, dayfirst, yearfirst, utc, format, exact, unit, infer_datetime_format, origin, cache)\u001b[0m\n\u001b[0;32m   1100\u001b[0m             \u001b[0mresult\u001b[0m \u001b[1;33m=\u001b[0m \u001b[0mconvert_listlike\u001b[0m\u001b[1;33m(\u001b[0m\u001b[0margc\u001b[0m\u001b[1;33m,\u001b[0m \u001b[0mformat\u001b[0m\u001b[1;33m)\u001b[0m\u001b[1;33m\u001b[0m\u001b[1;33m\u001b[0m\u001b[0m\n\u001b[0;32m   1101\u001b[0m     \u001b[1;32melse\u001b[0m\u001b[1;33m:\u001b[0m\u001b[1;33m\u001b[0m\u001b[1;33m\u001b[0m\u001b[0m\n\u001b[1;32m-> 1102\u001b[1;33m         \u001b[0mresult\u001b[0m \u001b[1;33m=\u001b[0m \u001b[0mconvert_listlike\u001b[0m\u001b[1;33m(\u001b[0m\u001b[0mnp\u001b[0m\u001b[1;33m.\u001b[0m\u001b[0marray\u001b[0m\u001b[1;33m(\u001b[0m\u001b[1;33m[\u001b[0m\u001b[0marg\u001b[0m\u001b[1;33m]\u001b[0m\u001b[1;33m)\u001b[0m\u001b[1;33m,\u001b[0m \u001b[0mformat\u001b[0m\u001b[1;33m)\u001b[0m\u001b[1;33m[\u001b[0m\u001b[1;36m0\u001b[0m\u001b[1;33m]\u001b[0m\u001b[1;33m\u001b[0m\u001b[1;33m\u001b[0m\u001b[0m\n\u001b[0m\u001b[0;32m   1103\u001b[0m         \u001b[1;32mif\u001b[0m \u001b[0misinstance\u001b[0m\u001b[1;33m(\u001b[0m\u001b[0marg\u001b[0m\u001b[1;33m,\u001b[0m \u001b[0mbool\u001b[0m\u001b[1;33m)\u001b[0m \u001b[1;32mand\u001b[0m \u001b[0misinstance\u001b[0m\u001b[1;33m(\u001b[0m\u001b[0mresult\u001b[0m\u001b[1;33m,\u001b[0m \u001b[0mnp\u001b[0m\u001b[1;33m.\u001b[0m\u001b[0mbool_\u001b[0m\u001b[1;33m)\u001b[0m\u001b[1;33m:\u001b[0m\u001b[1;33m\u001b[0m\u001b[1;33m\u001b[0m\u001b[0m\n\u001b[0;32m   1104\u001b[0m             \u001b[0mresult\u001b[0m \u001b[1;33m=\u001b[0m \u001b[0mbool\u001b[0m\u001b[1;33m(\u001b[0m\u001b[0mresult\u001b[0m\u001b[1;33m)\u001b[0m  \u001b[1;31m# TODO: avoid this kludge.\u001b[0m\u001b[1;33m\u001b[0m\u001b[1;33m\u001b[0m\u001b[0m\n",
      "\u001b[1;32mc:\\users\\ian\\appdata\\local\\programs\\python\\python39\\lib\\site-packages\\pandas\\core\\tools\\datetimes.py\u001b[0m in \u001b[0;36m_convert_listlike_datetimes\u001b[1;34m(arg, format, name, tz, unit, errors, infer_datetime_format, dayfirst, yearfirst, exact)\u001b[0m\n\u001b[0;32m    436\u001b[0m     \u001b[1;32massert\u001b[0m \u001b[0mformat\u001b[0m \u001b[1;32mis\u001b[0m \u001b[1;32mNone\u001b[0m \u001b[1;32mor\u001b[0m \u001b[0minfer_datetime_format\u001b[0m\u001b[1;33m\u001b[0m\u001b[1;33m\u001b[0m\u001b[0m\n\u001b[0;32m    437\u001b[0m     \u001b[0mutc\u001b[0m \u001b[1;33m=\u001b[0m \u001b[0mtz\u001b[0m \u001b[1;33m==\u001b[0m \u001b[1;34m\"utc\"\u001b[0m\u001b[1;33m\u001b[0m\u001b[1;33m\u001b[0m\u001b[0m\n\u001b[1;32m--> 438\u001b[1;33m     result, tz_parsed = objects_to_datetime64ns(\n\u001b[0m\u001b[0;32m    439\u001b[0m         \u001b[0marg\u001b[0m\u001b[1;33m,\u001b[0m\u001b[1;33m\u001b[0m\u001b[1;33m\u001b[0m\u001b[0m\n\u001b[0;32m    440\u001b[0m         \u001b[0mdayfirst\u001b[0m\u001b[1;33m=\u001b[0m\u001b[0mdayfirst\u001b[0m\u001b[1;33m,\u001b[0m\u001b[1;33m\u001b[0m\u001b[1;33m\u001b[0m\u001b[0m\n",
      "\u001b[1;32mc:\\users\\ian\\appdata\\local\\programs\\python\\python39\\lib\\site-packages\\pandas\\core\\arrays\\datetimes.py\u001b[0m in \u001b[0;36mobjects_to_datetime64ns\u001b[1;34m(data, dayfirst, yearfirst, utc, errors, require_iso8601, allow_object, allow_mixed)\u001b[0m\n\u001b[0;32m   2175\u001b[0m     \u001b[0morder\u001b[0m\u001b[1;33m:\u001b[0m \u001b[0mLiteral\u001b[0m\u001b[1;33m[\u001b[0m\u001b[1;34m\"F\"\u001b[0m\u001b[1;33m,\u001b[0m \u001b[1;34m\"C\"\u001b[0m\u001b[1;33m]\u001b[0m \u001b[1;33m=\u001b[0m \u001b[1;34m\"F\"\u001b[0m \u001b[1;32mif\u001b[0m \u001b[0mflags\u001b[0m\u001b[1;33m.\u001b[0m\u001b[0mf_contiguous\u001b[0m \u001b[1;32melse\u001b[0m \u001b[1;34m\"C\"\u001b[0m\u001b[1;33m\u001b[0m\u001b[1;33m\u001b[0m\u001b[0m\n\u001b[0;32m   2176\u001b[0m     \u001b[1;32mtry\u001b[0m\u001b[1;33m:\u001b[0m\u001b[1;33m\u001b[0m\u001b[1;33m\u001b[0m\u001b[0m\n\u001b[1;32m-> 2177\u001b[1;33m         result, tz_parsed = tslib.array_to_datetime(\n\u001b[0m\u001b[0;32m   2178\u001b[0m             \u001b[0mdata\u001b[0m\u001b[1;33m.\u001b[0m\u001b[0mravel\u001b[0m\u001b[1;33m(\u001b[0m\u001b[1;34m\"K\"\u001b[0m\u001b[1;33m)\u001b[0m\u001b[1;33m,\u001b[0m\u001b[1;33m\u001b[0m\u001b[1;33m\u001b[0m\u001b[0m\n\u001b[0;32m   2179\u001b[0m             \u001b[0merrors\u001b[0m\u001b[1;33m=\u001b[0m\u001b[0merrors\u001b[0m\u001b[1;33m,\u001b[0m\u001b[1;33m\u001b[0m\u001b[1;33m\u001b[0m\u001b[0m\n",
      "\u001b[1;32mc:\\users\\ian\\appdata\\local\\programs\\python\\python39\\lib\\site-packages\\pandas\\_libs\\tslib.pyx\u001b[0m in \u001b[0;36mpandas._libs.tslib.array_to_datetime\u001b[1;34m()\u001b[0m\n",
      "\u001b[1;32mc:\\users\\ian\\appdata\\local\\programs\\python\\python39\\lib\\site-packages\\pandas\\_libs\\tslib.pyx\u001b[0m in \u001b[0;36mpandas._libs.tslib.array_to_datetime\u001b[1;34m()\u001b[0m\n",
      "\u001b[1;32mc:\\users\\ian\\appdata\\local\\programs\\python\\python39\\lib\\site-packages\\pandas\\_libs\\tslib.pyx\u001b[0m in \u001b[0;36mpandas._libs.tslib._array_to_datetime_object\u001b[1;34m()\u001b[0m\n",
      "\u001b[1;32mc:\\users\\ian\\appdata\\local\\programs\\python\\python39\\lib\\site-packages\\pandas\\_libs\\tslib.pyx\u001b[0m in \u001b[0;36mpandas._libs.tslib._array_to_datetime_object\u001b[1;34m()\u001b[0m\n",
      "\u001b[1;32mc:\\users\\ian\\appdata\\local\\programs\\python\\python39\\lib\\site-packages\\pandas\\_libs\\tslibs\\parsing.pyx\u001b[0m in \u001b[0;36mpandas._libs.tslibs.parsing.parse_datetime_string\u001b[1;34m()\u001b[0m\n",
      "\u001b[1;32mc:\\users\\ian\\appdata\\local\\programs\\python\\python39\\lib\\site-packages\\dateutil\\parser\\_parser.py\u001b[0m in \u001b[0;36mparse\u001b[1;34m(timestr, parserinfo, **kwargs)\u001b[0m\n\u001b[0;32m   1366\u001b[0m         \u001b[1;32mreturn\u001b[0m \u001b[0mparser\u001b[0m\u001b[1;33m(\u001b[0m\u001b[0mparserinfo\u001b[0m\u001b[1;33m)\u001b[0m\u001b[1;33m.\u001b[0m\u001b[0mparse\u001b[0m\u001b[1;33m(\u001b[0m\u001b[0mtimestr\u001b[0m\u001b[1;33m,\u001b[0m \u001b[1;33m**\u001b[0m\u001b[0mkwargs\u001b[0m\u001b[1;33m)\u001b[0m\u001b[1;33m\u001b[0m\u001b[1;33m\u001b[0m\u001b[0m\n\u001b[0;32m   1367\u001b[0m     \u001b[1;32melse\u001b[0m\u001b[1;33m:\u001b[0m\u001b[1;33m\u001b[0m\u001b[1;33m\u001b[0m\u001b[0m\n\u001b[1;32m-> 1368\u001b[1;33m         \u001b[1;32mreturn\u001b[0m \u001b[0mDEFAULTPARSER\u001b[0m\u001b[1;33m.\u001b[0m\u001b[0mparse\u001b[0m\u001b[1;33m(\u001b[0m\u001b[0mtimestr\u001b[0m\u001b[1;33m,\u001b[0m \u001b[1;33m**\u001b[0m\u001b[0mkwargs\u001b[0m\u001b[1;33m)\u001b[0m\u001b[1;33m\u001b[0m\u001b[1;33m\u001b[0m\u001b[0m\n\u001b[0m\u001b[0;32m   1369\u001b[0m \u001b[1;33m\u001b[0m\u001b[0m\n\u001b[0;32m   1370\u001b[0m \u001b[1;33m\u001b[0m\u001b[0m\n",
      "\u001b[1;32mc:\\users\\ian\\appdata\\local\\programs\\python\\python39\\lib\\site-packages\\dateutil\\parser\\_parser.py\u001b[0m in \u001b[0;36mparse\u001b[1;34m(self, timestr, default, ignoretz, tzinfos, **kwargs)\u001b[0m\n\u001b[0;32m    641\u001b[0m \u001b[1;33m\u001b[0m\u001b[0m\n\u001b[0;32m    642\u001b[0m         \u001b[1;32mif\u001b[0m \u001b[0mres\u001b[0m \u001b[1;32mis\u001b[0m \u001b[1;32mNone\u001b[0m\u001b[1;33m:\u001b[0m\u001b[1;33m\u001b[0m\u001b[1;33m\u001b[0m\u001b[0m\n\u001b[1;32m--> 643\u001b[1;33m             \u001b[1;32mraise\u001b[0m \u001b[0mParserError\u001b[0m\u001b[1;33m(\u001b[0m\u001b[1;34m\"Unknown string format: %s\"\u001b[0m\u001b[1;33m,\u001b[0m \u001b[0mtimestr\u001b[0m\u001b[1;33m)\u001b[0m\u001b[1;33m\u001b[0m\u001b[1;33m\u001b[0m\u001b[0m\n\u001b[0m\u001b[0;32m    644\u001b[0m \u001b[1;33m\u001b[0m\u001b[0m\n\u001b[0;32m    645\u001b[0m         \u001b[1;32mif\u001b[0m \u001b[0mlen\u001b[0m\u001b[1;33m(\u001b[0m\u001b[0mres\u001b[0m\u001b[1;33m)\u001b[0m \u001b[1;33m==\u001b[0m \u001b[1;36m0\u001b[0m\u001b[1;33m:\u001b[0m\u001b[1;33m\u001b[0m\u001b[1;33m\u001b[0m\u001b[0m\n",
      "\u001b[1;31mParserError\u001b[0m: Unknown string format: Hello World present at position 0"
     ]
    }
   ],
   "source": [
    "import datetime\n",
    "import pandas as pd\n",
    "\n",
    "str1 = '2023-05-15 12:00:00'\n",
    "str2 = '01/03/2023 11:10'\n",
    "str3 = 'Wed Mar  1 11:10:42 2023'\n",
    "str4 = 'Wednesday March  1 11:10:42 2023'\n",
    "str5 = 'Wed March 1st 11:10:42 2023'\n",
    "str6 = 'Wed March 2023  1st 11:10:42'\n",
    "str7 = None\n",
    "str8 = \"Hello World\"   # ParserError: Unknown string format\n",
    "\n",
    "str_list = [str1, str2, str3, str4, str5, str6, str7, str8]\n",
    "\n",
    "for element in str_list:\n",
    "    print(pd.to_datetime(element))\n",
    "    \n",
    "\n"
   ]
  },
  {
   "cell_type": "markdown",
   "id": "db85aea3",
   "metadata": {},
   "source": [
    "# Time Series Basics"
   ]
  },
  {
   "cell_type": "code",
   "execution_count": 71,
   "id": "f57d4a66",
   "metadata": {},
   "outputs": [
    {
     "name": "stdout",
     "output_type": "stream",
     "text": [
      "<class 'pandas._libs.tslibs.timestamps.Timestamp'>\n",
      "<class 'pandas.core.indexes.datetimes.DatetimeIndex'>\n"
     ]
    }
   ],
   "source": [
    "import datetime\n",
    "import pandas\n",
    "\n",
    "datelist = [\"2023-07-06 12:00:00\", \"2023-08-06 00:00:00\"]\n",
    "\n",
    "print(type(pd.to_datetime(datelist[0])))  # Timestamp\n",
    "print(type(pd.to_datetime(datelist)))     # DatetimeIndex\n"
   ]
  },
  {
   "cell_type": "code",
   "execution_count": 78,
   "id": "67b365c5",
   "metadata": {},
   "outputs": [
    {
     "name": "stdout",
     "output_type": "stream",
     "text": [
      "2023-07-06   -0.352590\n",
      "2023-08-06    2.124956\n",
      "2023-05-06    0.136239\n",
      "2023-04-06   -0.136102\n",
      "dtype: float64\n",
      "2023-07-06    1.831588\n",
      "2023-08-06    1.920433\n",
      "dtype: float64\n",
      "2023-04-06         NaN\n",
      "2023-05-06         NaN\n",
      "2023-07-06    1.478998\n",
      "2023-08-06    4.045389\n",
      "dtype: float64\n"
     ]
    }
   ],
   "source": [
    "import datetime\n",
    "import pandas as pd\n",
    "import numpy as np\n",
    "\n",
    "datelist = [\"2023-07-06\", \"2023-08-06\", \"2023-05-06\",\"2023-04-06\"]\n",
    "datelist2 = [\"2023-07-06\", \"2023-08-06\"]\n",
    "\n",
    "dt_idx = pd.to_datetime(datelist)\n",
    "dt_idx2 = pd.to_datetime(datelist2)\n",
    "\n",
    "p_series1 = pd.Series(np.random.standard_normal(4), index = dt_idx)\n",
    "p_series2 = pd.Series(np.random.standard_normal(2), index = dt_idx2)\n",
    "\n",
    "\n",
    "print(p_series1)\n",
    "print(p_series2)\n",
    "\n",
    "print(p_series1 + p_series2)"
   ]
  },
  {
   "cell_type": "code",
   "execution_count": 91,
   "id": "11b1205c",
   "metadata": {},
   "outputs": [
    {
     "name": "stdout",
     "output_type": "stream",
     "text": [
      "Colorado   -0.906136\n",
      "Texas      -0.328041\n",
      "New York    0.663575\n",
      "Ohio        0.684840\n",
      "Name: 2001-10-31 00:00:00, dtype: float64\n"
     ]
    }
   ],
   "source": [
    "import datetime\n",
    "import pandas as pd\n",
    "import numpy as np\n",
    "\n",
    "datelist = [\"2023-07-06\", \"2023-08-06\", \"2023-05-06\",\"2023-04-06\"]\n",
    "\n",
    "dt_idx = pd.to_datetime(datelist)\n",
    "\n",
    "p_series1 = pd.Series(np.random.standard_normal(4), index = dt_idx)\n",
    "\n",
    "# print(p_series1[1])\n",
    "# print(p_series1['2023-08-06'])\n",
    "\n",
    "# print(p_series1['2023-07-06':])  # Start at 7th June - to end\n",
    "# print(p_series1['2023-05-06':'2023-08-06']) # Start at Between 5 - 8 June inclusive.\n",
    "\n",
    "\n",
    "# Dataframes\n",
    "# date_range discussed later\n",
    "dates = pd.date_range(\"2000-01-01\", periods = 100, freq = \"W-WED\") # Also creates DateTimeIndex objects.\n",
    "\n",
    "df1 = pd.DataFrame(np.random.standard_normal((100,4)), index=dates, columns=[\"Colorado\", \"Texas\", \"New York\", \"Ohio\"])\n",
    "\n",
    "print(df1.loc['2001-10-31'])\n"
   ]
  },
  {
   "cell_type": "code",
   "execution_count": 100,
   "id": "cb09d085",
   "metadata": {},
   "outputs": [
    {
     "name": "stdout",
     "output_type": "stream",
     "text": [
      "2023-04-06    0.683233\n",
      "2023-04-06   -0.754157\n",
      "dtype: float64\n",
      "2023-03-06    2\n",
      "2023-04-06    2\n",
      "2023-05-06    2\n",
      "2023-06-06    2\n",
      "dtype: int64\n"
     ]
    }
   ],
   "source": [
    "import datetime\n",
    "import pandas as pd\n",
    "import numpy as np\n",
    "\n",
    "datelist = [\"2023-03-06\", \"2023-03-06\", \"2023-04-06\", \"2023-04-06\", \"2023-05-06\", \"2023-05-06\", \"2023-06-06\",\"2023-06-06\"]\n",
    "\n",
    "dt_idx = pd.to_datetime(datelist)\n",
    "\n",
    "p_series1 = pd.Series(np.random.standard_normal(8), index = dt_idx)\n",
    "\n",
    "#print(p_series1)\n",
    "\n",
    "print(p_series1['2023-04-06'])  # Both values appear.\n",
    "print(p_series1.groupby(level=0).count()) "
   ]
  },
  {
   "cell_type": "code",
   "execution_count": 122,
   "id": "5c79e647",
   "metadata": {},
   "outputs": [
    {
     "name": "stdout",
     "output_type": "stream",
     "text": [
      "DatetimeIndex(['2023-04-01', '2023-04-02', '2023-04-03', '2023-04-04',\n",
      "               '2023-04-05', '2023-04-06', '2023-04-07', '2023-04-08',\n",
      "               '2023-04-09', '2023-04-10', '2023-04-11', '2023-04-12',\n",
      "               '2023-04-13', '2023-04-14', '2023-04-15', '2023-04-16',\n",
      "               '2023-04-17', '2023-04-18', '2023-04-19', '2023-04-20',\n",
      "               '2023-04-21', '2023-04-22', '2023-04-23', '2023-04-24',\n",
      "               '2023-04-25', '2023-04-26', '2023-04-27', '2023-04-28',\n",
      "               '2023-04-29', '2023-04-30'],\n",
      "              dtype='datetime64[ns]', freq='D')\n",
      "DatetimeIndex(['2023-04-01', '2023-04-02', '2023-04-03', '2023-04-04',\n",
      "               '2023-04-05'],\n",
      "              dtype='datetime64[ns]', freq='D')\n",
      "DatetimeIndex(['2023-04-01 00:00:00', '2023-04-10 16:00:00',\n",
      "               '2023-04-20 08:00:00', '2023-04-30 00:00:00'],\n",
      "              dtype='datetime64[ns]', freq=None)\n",
      "DatetimeIndex(['2023-04-09', '2023-04-16', '2023-04-23', '2023-04-30'], dtype='datetime64[ns]', freq='W-SUN')\n",
      "DatetimeIndex(['2023-04-09 08:00:00', '2023-04-16 08:00:00',\n",
      "               '2023-04-23 08:00:00', '2023-04-30 08:00:00'],\n",
      "              dtype='datetime64[ns]', freq='W-SUN')\n",
      "DatetimeIndex(['2023-04-09', '2023-04-16', '2023-04-23', '2023-04-30'], dtype='datetime64[ns]', freq='W-SUN')\n",
      "DatetimeIndex(['2023-04-29 20:00:00', '2023-04-30 00:00:00',\n",
      "               '2023-04-30 04:00:00', '2023-04-30 08:00:00'],\n",
      "              dtype='datetime64[ns]', freq='4H')\n",
      "DatetimeIndex(['2023-04-30 07:15:00', '2023-04-30 07:30:00',\n",
      "               '2023-04-30 07:45:00', '2023-04-30 08:00:00'],\n",
      "              dtype='datetime64[ns]', freq='15T')\n",
      "DatetimeIndex(['2023-05-08 08:00:00', '2023-06-12 08:00:00',\n",
      "               '2023-07-10 08:00:00', '2023-08-14 08:00:00'],\n",
      "              dtype='datetime64[ns]', freq='WOM-2MON')\n"
     ]
    }
   ],
   "source": [
    "import datetime\n",
    "import pandas as pd\n",
    "import numpy as np\n",
    "\n",
    "print(pd.date_range('2023-04-01', '2023-04-30')) # Example 1  Default frequency is 'D'aily. \n",
    "print(pd.date_range('2023-04-01', periods = 5))  # Example 2  Default frequency is 'D'aily  - but only 5 days. \n",
    "print(pd.date_range('2023-04-01', '2023-04-30', periods = 4))  # Example 3  4 equi-sized periods.\n",
    "print(pd.date_range(end = '2023-04-30', periods = 4, freq = 'W')) #Example 4  4 weeks ending 30th April.\n",
    "print(pd.date_range(end = '2023-04-30 08:00', periods = 4, freq = 'W'))#Example 5 4 weeks ending 30th April-time preserved\n",
    "print(pd.date_range(end = '2023-04-30 08:00', periods = 4, freq = 'W', normalize=True ))#Example 6 Time normalised to Midnight\n",
    "print(pd.date_range(end = '2023-04-30 08:00', periods = 4, freq = '4H'))#Example 7 4 hourly\n",
    "print(pd.date_range(end = '2023-04-30 08:00', periods = 4, freq = '15min'))#Example 7 4 hourly\n",
    "print(pd.date_range(start = '2023-04-30 08:00', periods = 4, freq = 'WOM-2MON'))#Example 8 2nd Friday of month.\n"
   ]
  },
  {
   "cell_type": "markdown",
   "id": "572cff5b",
   "metadata": {},
   "source": [
    "# Periods and Period Arithmetic"
   ]
  },
  {
   "cell_type": "code",
   "execution_count": 136,
   "id": "82b3b3f0",
   "metadata": {},
   "outputs": [
    {
     "name": "stdout",
     "output_type": "stream",
     "text": [
      "2023\n",
      "2023-01-01 00:00:00 2023-12-31 23:59:59.999999999\n",
      "2023-01\n",
      "2023-01-01 00:00:00 2023-01-31 23:59:59.999999999\n",
      "2023-01\n",
      "2023-01-01 00:00:00 2023-01-31 23:59:59.999999999\n",
      "2022-02-09 16:00\n",
      "2022-02-09 16:00:00 2022-02-09 16:59:59.999999999\n"
     ]
    }
   ],
   "source": [
    "import pandas as pd\n",
    "\n",
    "p1 = pd.Period(\"2023\")\n",
    "print(p1)\n",
    "print(p1.start_time, p1.end_time)\n",
    "\n",
    "p2 = pd.Period(\"2023-01\")\n",
    "print(p2)\n",
    "print(p2.start_time, p2.end_time)\n",
    "\n",
    "# OR\n",
    "\n",
    "p3 = pd.Period(\"2023\", freq=\"M\")\n",
    "print(p3)\n",
    "print(p3.start_time, p3.end_time)\n",
    "\n",
    "p4 = pd.Period('2022-02-09 16:00:00', freq='H')\n",
    "print(p4)\n",
    "print(p4.start_time, p4.end_time)"
   ]
  },
  {
   "cell_type": "code",
   "execution_count": 152,
   "id": "d997f0c7",
   "metadata": {},
   "outputs": [
    {
     "name": "stdout",
     "output_type": "stream",
     "text": [
      "PeriodIndex(['2000-01', '2000-02', '2000-03', '2000-04', '2000-05', '2000-06'], dtype='period[M]')\n",
      "<class 'pandas.core.indexes.period.PeriodIndex'>\n",
      "<class 'pandas._libs.tslibs.period.Period'>\n",
      "2000-01    0.170442\n",
      "2000-02   -0.567297\n",
      "2000-03   -0.594737\n",
      "2000-04    1.135133\n",
      "2000-05    0.626123\n",
      "2000-06    0.474174\n",
      "Freq: M, dtype: float64\n",
      "1999-12-27/2000-01-02   -0.991568\n",
      "2000-01-03/2000-01-09    1.231852\n",
      "2000-01-10/2000-01-16    1.967688\n",
      "2000-01-17/2000-01-23    1.349355\n",
      "2000-01-24/2000-01-30   -1.065459\n",
      "2000-01-31/2000-02-06    0.503245\n",
      "2000-02-07/2000-02-13    1.022914\n",
      "2000-02-14/2000-02-20   -1.872258\n",
      "2000-02-21/2000-02-27    0.219187\n",
      "2000-02-28/2000-03-05   -0.322280\n",
      "2000-03-06/2000-03-12    1.057127\n",
      "2000-03-13/2000-03-19    0.911721\n",
      "2000-03-20/2000-03-26   -0.103927\n",
      "2000-03-27/2000-04-02    1.913261\n",
      "2000-04-03/2000-04-09    0.276319\n",
      "2000-04-10/2000-04-16   -1.557997\n",
      "2000-04-17/2000-04-23    0.301758\n",
      "2000-04-24/2000-04-30   -0.452339\n",
      "2000-05-01/2000-05-07   -1.404041\n",
      "2000-05-08/2000-05-14    1.658182\n",
      "2000-05-15/2000-05-21    1.951935\n",
      "2000-05-22/2000-05-28   -0.466320\n",
      "2000-05-29/2000-06-04   -1.276278\n",
      "2000-06-05/2000-06-11   -0.538850\n",
      "2000-06-12/2000-06-18   -0.675163\n",
      "2000-06-19/2000-06-25    0.108097\n",
      "2000-06-26/2000-07-02    0.462073\n",
      "Freq: W-SUN, dtype: float64\n",
      "2000Q1    0.789469\n",
      "2000Q2    1.578302\n",
      "Freq: Q-DEC, dtype: float64\n"
     ]
    }
   ],
   "source": [
    "import pandas as pd\n",
    "\n",
    "p_idx = pd.period_range(\"2000-01-01\", \"2000-06-30\", freq='M')\n",
    "p_idx2 = pd.period_range(\"2000-01-01\", \"2000-06-30\", freq='W')\n",
    "p_idx3 = pd.period_range(\"2000-01-01\", \"2000-06-30\", freq='Q')\n",
    "print(p_idx)\n",
    "print(type(p_idx))\n",
    "print(type(p_idx[0]))\n",
    "\n",
    "ps1 = pd.Series(np.random.standard_normal(6), index = p_idx)\n",
    "print(ps1)\n",
    "ps2 = pd.Series(np.random.standard_normal(27), index = p_idx2)\n",
    "print(ps2)\n",
    "ps3 = pd.Series(np.random.standard_normal(2), index = p_idx3)\n",
    "print(ps3)"
   ]
  },
  {
   "cell_type": "markdown",
   "id": "7b80822f",
   "metadata": {},
   "source": [
    "# Frequency Conversion\n",
    "\n"
   ]
  },
  {
   "cell_type": "code",
   "execution_count": 161,
   "id": "04d75801",
   "metadata": {},
   "outputs": [
    {
     "name": "stdout",
     "output_type": "stream",
     "text": [
      "2022-01-01 00:00:00 2022-12-31 23:59:59.999999999\n",
      "2021-12-27/2022-01-02\n",
      "2022-12-26/2023-01-01\n",
      "2022-01\n",
      "2022-12\n"
     ]
    }
   ],
   "source": [
    "import pandas as pd\n",
    "\n",
    "p1 = pd.Period(\"2022\", freq = 'A-DEC')\n",
    "\n",
    "print(p1.start_time, p1.end_time)\n",
    "\n",
    "p2 = p1.asfreq(freq='W', how='start')\n",
    "print(p2)\n",
    "\n",
    "p3 = p1.asfreq(freq='W', how='end')\n",
    "print(p3)\n",
    "\n",
    "p4 = p1.asfreq(freq='M', how='start')\n",
    "print(p4)\n",
    "\n",
    "p5 = p1.asfreq(freq='M', how='end')\n",
    "print(p5)"
   ]
  },
  {
   "cell_type": "code",
   "execution_count": 167,
   "id": "ee1a92d3",
   "metadata": {},
   "outputs": [
    {
     "name": "stdout",
     "output_type": "stream",
     "text": [
      "2022\n",
      "2021-04-01 00:00:00 2022-03-31 23:59:59.999999999\n",
      "2021-03-29/2021-04-04\n",
      "2021-03-29 00:00:00 2021-04-04 23:59:59.999999999\n",
      "2022-03-28/2022-04-03\n",
      "2022-03-28 00:00:00 2022-04-03 23:59:59.999999999\n"
     ]
    }
   ],
   "source": [
    "# Tax year\n",
    "\n",
    "import pandas as pd\n",
    "\n",
    "p1 = pd.Period(\"2022\", freq = 'A-Mar')\n",
    "print(p1)\n",
    "print(p1.start_time, p1.end_time)\n",
    "\n",
    "p2 = p1.asfreq(freq='W', how='start')\n",
    "print(p2)\n",
    "print(p2.start_time, p2.end_time)\n",
    "\n",
    "p3 = p1.asfreq(freq='W', how='end')\n",
    "print(p3)\n",
    "print(p3.start_time, p3.end_time)"
   ]
  },
  {
   "cell_type": "markdown",
   "id": "27e799cf",
   "metadata": {},
   "source": [
    "# Converting PeriodIndexes"
   ]
  },
  {
   "cell_type": "code",
   "execution_count": 172,
   "id": "210acea8",
   "metadata": {},
   "outputs": [
    {
     "name": "stdout",
     "output_type": "stream",
     "text": [
      "2006   -0.243650\n",
      "2007   -1.975639\n",
      "2008   -0.020935\n",
      "2009   -0.606388\n",
      "Freq: A-DEC, dtype: float64\n",
      "2006-01   -2.095246\n",
      "2007-01   -0.500988\n",
      "2008-01   -0.882507\n",
      "2009-01   -1.278418\n",
      "Freq: M, dtype: float64\n",
      "2006-12-29   -0.405091\n",
      "2007-12-31   -1.731521\n",
      "2008-12-31    0.295914\n",
      "2009-12-31    1.166208\n",
      "Freq: B, dtype: float64\n"
     ]
    }
   ],
   "source": [
    "import pandas as pd\n",
    "\n",
    "periods = pd.period_range(\"2006\", \"2009\", freq = 'A-DEC')\n",
    "ps1 = pd.Series(np.random.standard_normal(len(periods)), index=periods)\n",
    "print(ps1)\n",
    "\n",
    "periods2 = periods.asfreq(freq='M', how='start')\n",
    "ps2 = pd.Series(np.random.standard_normal(len(periods)), index=periods2)\n",
    "print(ps2)\n",
    "\n",
    "periods3 = periods.asfreq(freq='B', how='end')  # Last business day\n",
    "ps3 = pd.Series(np.random.standard_normal(len(periods)), index=periods3)\n",
    "print(ps3)"
   ]
  },
  {
   "cell_type": "markdown",
   "id": "818a29ce",
   "metadata": {},
   "source": [
    "# Quarterly Frequencies"
   ]
  },
  {
   "cell_type": "code",
   "execution_count": 25,
   "id": "14e8a2be",
   "metadata": {},
   "outputs": [
    {
     "name": "stdout",
     "output_type": "stream",
     "text": [
      "2023Q4 2023-01-01 00:00:00 2023-03-31 23:59:59.999999999\n",
      "<class 'pandas.core.indexes.period.PeriodIndex'>\n",
      "Period: 2023Q1 starts 2022-04-01 00:00:00 and ends 2022-06-30 23:59:59.999999999.\n",
      "Period: 2023Q2 starts 2022-07-01 00:00:00 and ends 2022-09-30 23:59:59.999999999.\n",
      "Period: 2023Q3 starts 2022-10-01 00:00:00 and ends 2022-12-31 23:59:59.999999999.\n",
      "Period: 2023Q4 starts 2023-01-01 00:00:00 and ends 2023-03-31 23:59:59.999999999.\n"
     ]
    }
   ],
   "source": [
    "import pandas as pd\n",
    "\n",
    "per1 = pd.Period(\"2023Q4\", freq='Q-Mar')\n",
    "\n",
    "print(per1, per1.start_time, per1.end_time)\n",
    "\n",
    "periods = pd.period_range(\"2023Q1\", \"2023Q4\", freq = \"Q-MAR\")\n",
    "print(type(periods))\n",
    "for per in periods:\n",
    "    print(f\"Period: {per} starts {per.start_time} and ends {per.end_time}.\")"
   ]
  },
  {
   "cell_type": "markdown",
   "id": "b3909c44",
   "metadata": {},
   "source": [
    "# Converting Timestamps to Periods and back\n"
   ]
  },
  {
   "cell_type": "code",
   "execution_count": 24,
   "id": "9388d197",
   "metadata": {},
   "outputs": [
    {
     "name": "stdout",
     "output_type": "stream",
     "text": [
      "<class 'pandas.core.indexes.datetimes.DatetimeIndex'>\n",
      "2022-01-31    0.591914\n",
      "2022-02-28    0.309566\n",
      "2022-03-31   -0.750592\n",
      "Freq: M, dtype: float64\n",
      "2022-01    0.591914\n",
      "2022-02    0.309566\n",
      "2022-03   -0.750592\n",
      "Freq: M, dtype: float64\n",
      "2022-01    0.591914\n",
      "2022-02    0.309566\n",
      "2022-03   -0.750592\n",
      "Freq: M, dtype: float64\n",
      "2022Q1    0.591914\n",
      "2022Q1    0.309566\n",
      "2022Q1   -0.750592\n",
      "Freq: Q-DEC, dtype: float64\n",
      "2022Q4    0.591914\n",
      "2022Q4    0.309566\n",
      "2022Q4   -0.750592\n",
      "Freq: Q-MAR, dtype: float64\n",
      "2022-01-31 23:59:59.999999999    0.591914\n",
      "2022-02-28 23:59:59.999999999    0.309566\n",
      "2022-03-31 23:59:59.999999999   -0.750592\n",
      "dtype: float64\n",
      "2022-01-01    0.591914\n",
      "2022-02-01    0.309566\n",
      "2022-03-01   -0.750592\n",
      "Freq: MS, dtype: float64\n",
      "2022-01-01    0.591914\n",
      "2022-01-01    0.309566\n",
      "2022-01-01   -0.750592\n",
      "dtype: float64\n",
      "2022-03-31 23:59:59.999999999    0.591914\n",
      "2022-03-31 23:59:59.999999999    0.309566\n",
      "2022-03-31 23:59:59.999999999   -0.750592\n",
      "dtype: float64\n"
     ]
    }
   ],
   "source": [
    "import pandas as pd\n",
    "import numpy as np\n",
    "\n",
    "dates = pd.date_range(\"2022-01-01\", periods = 3, freq = 'M')\n",
    "\n",
    "ps1 = pd.Series(np.random.standard_normal(3), index = dates)\n",
    "print(ps1)\n",
    "\n",
    "ps2 = ps1.to_period()\n",
    "print(ps2)\n",
    "\n",
    "ps3 = ps1.to_period('M')\n",
    "print(ps3)\n",
    "\n",
    "ps4 = ps1.to_period('Q')\n",
    "print(ps4)\n",
    "\n",
    "ps5 = ps1.to_period('Q-MAR')\n",
    "print(ps5)\n",
    "\n",
    "\n",
    "# To convert back\n",
    "\n",
    "ps6 = ps2.to_timestamp(how = 'end')\n",
    "print(ps6)\n",
    "\n",
    "ps7 = ps2.to_timestamp(how = 'start')\n",
    "print(ps7)\n",
    "\n",
    "ps8 = ps4.to_timestamp(how = 'start')\n",
    "print(ps8)\n",
    "\n",
    "ps9 = ps4.to_timestamp(how = 'end')\n",
    "print(ps9)"
   ]
  },
  {
   "cell_type": "markdown",
   "id": "292231cb",
   "metadata": {},
   "source": [
    "# PeriodIndex from Arrays"
   ]
  },
  {
   "cell_type": "code",
   "execution_count": 28,
   "id": "751debfe",
   "metadata": {},
   "outputs": [
    {
     "name": "stdout",
     "output_type": "stream",
     "text": [
      "   year  quarter   realgdp  realcons  realinv  realgovt  realdpi    cpi  \\\n",
      "0  1959        1  2710.349    1707.4  286.898   470.045   1886.9  28.98   \n",
      "1  1959        2  2778.801    1733.7  310.859   481.301   1919.7  29.15   \n",
      "2  1959        3  2775.488    1751.8  289.226   491.260   1916.4  29.35   \n",
      "3  1959        4  2785.204    1753.7  299.356   484.052   1931.3  29.37   \n",
      "\n",
      "      m1  tbilrate  unemp      pop  infl  realint  \n",
      "0  139.7      2.82    5.8  177.146  0.00     0.00  \n",
      "1  141.7      3.08    5.1  177.830  2.34     0.74  \n",
      "2  140.5      3.82    5.3  178.657  2.74     1.09  \n",
      "3  140.0      4.33    5.6  179.386  0.27     4.06  \n",
      "        year  quarter   realgdp  realcons  realinv  realgovt  realdpi    cpi  \\\n",
      "1959Q1  1959        1  2710.349    1707.4  286.898   470.045   1886.9  28.98   \n",
      "1959Q2  1959        2  2778.801    1733.7  310.859   481.301   1919.7  29.15   \n",
      "1959Q3  1959        3  2775.488    1751.8  289.226   491.260   1916.4  29.35   \n",
      "1959Q4  1959        4  2785.204    1753.7  299.356   484.052   1931.3  29.37   \n",
      "1960Q1  1960        1  2847.699    1770.5  331.722   462.199   1955.5  29.54   \n",
      "1960Q2  1960        2  2834.390    1792.9  298.152   460.400   1966.1  29.55   \n",
      "1960Q3  1960        3  2839.022    1785.8  296.375   474.676   1967.8  29.75   \n",
      "1960Q4  1960        4  2802.616    1788.2  259.764   476.434   1966.6  29.84   \n",
      "\n",
      "           m1  tbilrate  unemp      pop  infl  realint  \n",
      "1959Q1  139.7      2.82    5.8  177.146  0.00     0.00  \n",
      "1959Q2  141.7      3.08    5.1  177.830  2.34     0.74  \n",
      "1959Q3  140.5      3.82    5.3  178.657  2.74     1.09  \n",
      "1959Q4  140.0      4.33    5.6  179.386  0.27     4.06  \n",
      "1960Q1  139.6      3.50    5.2  180.007  2.31     1.19  \n",
      "1960Q2  140.2      2.68    5.2  180.671  0.14     2.55  \n",
      "1960Q3  140.9      2.36    5.6  181.528  2.70    -0.34  \n",
      "1960Q4  141.1      2.29    6.3  182.287  1.21     1.08  \n"
     ]
    }
   ],
   "source": [
    "import pandas as pd\n",
    "\n",
    "ds1 = pd.read_csv(\"macrodata.csv\")\n",
    "print(ds1.head(4))\n",
    "\n",
    "p_idx = pd.PeriodIndex(year=ds1[\"year\"], quarter=ds1[\"quarter\"], freq='Q-DEC')\n",
    "\n",
    "ds1.index = p_idx\n",
    "\n",
    "print(ds1.head(8))"
   ]
  },
  {
   "cell_type": "markdown",
   "id": "eee83de4",
   "metadata": {},
   "source": [
    "# Resampling"
   ]
  },
  {
   "cell_type": "code",
   "execution_count": 37,
   "id": "799915c8",
   "metadata": {},
   "outputs": [
    {
     "name": "stdout",
     "output_type": "stream",
     "text": [
      "2022-01-01    0.831543\n",
      "2022-01-02   -0.665631\n",
      "2022-01-03    0.786033\n",
      "2022-01-04    1.590329\n",
      "2022-01-05    0.955570\n",
      "                ...   \n",
      "2022-04-06   -0.073567\n",
      "2022-04-07   -0.733878\n",
      "2022-04-08   -1.077471\n",
      "2022-04-09   -0.073640\n",
      "2022-04-10   -0.771539\n",
      "Freq: D, Length: 100, dtype: float64\n",
      "2022-01-31    0.425038\n",
      "2022-02-28   -0.225574\n",
      "2022-03-31   -0.156454\n",
      "2022-04-30   -0.672656\n",
      "Freq: M, dtype: float64\n",
      "2022-01    0.425038\n",
      "2022-02   -0.225574\n",
      "2022-03   -0.156454\n",
      "2022-04   -0.672656\n",
      "Freq: M, dtype: float64\n"
     ]
    }
   ],
   "source": [
    "import pandas as pd\n",
    "\n",
    "dte_idx = pd.date_range(\"2022-01-01\", periods = 100)\n",
    "\n",
    "ps1 = pd.Series(np.random.standard_normal(len(dte_idx)), index = dte_idx)\n",
    "print(ps1)\n",
    "\n",
    "print(ps1.resample(rule = \"M\", kind='timestamps').mean())  # Prints month end dates\n",
    "\n",
    "print(ps1.resample(rule = \"M\", kind='period').mean()) # Prints periods\n",
    "\n",
    "\n",
    "\n"
   ]
  },
  {
   "cell_type": "markdown",
   "id": "381b5fe3",
   "metadata": {},
   "source": [
    "# Downsampling"
   ]
  },
  {
   "cell_type": "code",
   "execution_count": 55,
   "id": "2e409e02",
   "metadata": {},
   "outputs": [
    {
     "name": "stdout",
     "output_type": "stream",
     "text": [
      "2022-01-01 00:00:00    0.603680\n",
      "2022-01-01 00:05:00    0.068849\n",
      "2022-01-01 00:10:00    0.489708\n",
      "Freq: 5T, dtype: float64\n",
      "DatetimeIndexResampler [freq=<5 * Minutes>, axis=0, closed=left, label=left, convention=start, origin=start_day]\n",
      "2022-01-01 00:05:00    0.603680\n",
      "2022-01-01 00:10:00    0.068849\n",
      "2022-01-01 00:15:00    0.489708\n",
      "Freq: 5T, dtype: float64\n",
      "                         open      high       low     close\n",
      "2022-01-01 00:05:00  1.847903  1.847903 -0.154298 -0.154298\n",
      "2022-01-01 00:10:00 -1.004770  0.819216 -1.004770  0.819216\n",
      "2022-01-01 00:15:00  0.158640  0.820777  0.158640  0.820777\n"
     ]
    }
   ],
   "source": [
    "import pandas as pd\n",
    "\n",
    "dte_idx = pd.date_range(\"2022-01-01\", periods = 12, freq = 'T')  # Minutes\n",
    "ps1 = pd.Series(np.random.standard_normal(len(dte_idx)), index = dte_idx)\n",
    "#print(ps1)\n",
    "\n",
    "# Downsample to 5-min intervals\n",
    "print(ps1.resample(rule = \"5min\").mean()) # Less values.\n",
    "\n",
    "# The left bin edge inclusive (closed), the right is exclusive (open).  So 00:00:00 is included in the first bin.\n",
    "print(ps1.resample(rule = \"5min\"))\n",
    "\n",
    "ps2 = ps1.resample(rule = \"5min\", label = 'right').mean() # Right (exclusive) bin.\n",
    "print(ps2)\n",
    "\n",
    "\n",
    "ps3 = ps1.resample(rule = \"5min\", label = 'right').ohlc() # Right (exclusive) bin.\n",
    "print(ps3)                                  \n",
    "                                  "
   ]
  },
  {
   "cell_type": "markdown",
   "id": "f7320963",
   "metadata": {},
   "source": [
    "# Upsampling & Interpolation"
   ]
  },
  {
   "cell_type": "code",
   "execution_count": 61,
   "id": "f6c6200d",
   "metadata": {},
   "outputs": [
    {
     "name": "stdout",
     "output_type": "stream",
     "text": [
      "            Colorado     Texas  New York      Ohio\n",
      "2000-01-05 -1.484021  0.114890 -1.278319  1.450374\n",
      "2000-01-12 -0.143693  0.425556  1.115548  0.512192\n",
      "            Colorado     Texas  New York      Ohio\n",
      "2000-01-05 -1.484021  0.114890 -1.278319  1.450374\n",
      "2000-01-06       NaN       NaN       NaN       NaN\n",
      "2000-01-07       NaN       NaN       NaN       NaN\n",
      "2000-01-08       NaN       NaN       NaN       NaN\n",
      "2000-01-09       NaN       NaN       NaN       NaN\n",
      "2000-01-10       NaN       NaN       NaN       NaN\n",
      "2000-01-11       NaN       NaN       NaN       NaN\n",
      "2000-01-12 -0.143693  0.425556  1.115548  0.512192\n",
      "            Colorado     Texas  New York      Ohio\n",
      "2000-01-05 -1.484021  0.114890 -1.278319  1.450374\n",
      "2000-01-06 -1.484021  0.114890 -1.278319  1.450374\n",
      "2000-01-07 -1.484021  0.114890 -1.278319  1.450374\n",
      "2000-01-08 -1.484021  0.114890 -1.278319  1.450374\n",
      "2000-01-09 -1.484021  0.114890 -1.278319  1.450374\n",
      "2000-01-10 -1.484021  0.114890 -1.278319  1.450374\n",
      "2000-01-11 -1.484021  0.114890 -1.278319  1.450374\n",
      "2000-01-12 -0.143693  0.425556  1.115548  0.512192\n",
      "            Colorado     Texas  New York      Ohio\n",
      "2000-01-05 -1.484021  0.114890 -1.278319  1.450374\n",
      "2000-01-06 -0.143693  0.425556  1.115548  0.512192\n",
      "2000-01-07 -0.143693  0.425556  1.115548  0.512192\n",
      "2000-01-08 -0.143693  0.425556  1.115548  0.512192\n",
      "2000-01-09 -0.143693  0.425556  1.115548  0.512192\n",
      "2000-01-10 -0.143693  0.425556  1.115548  0.512192\n",
      "2000-01-11 -0.143693  0.425556  1.115548  0.512192\n",
      "2000-01-12 -0.143693  0.425556  1.115548  0.512192\n",
      "<class 'pandas.core.resample.DatetimeIndexResampler'>\n"
     ]
    }
   ],
   "source": [
    "dates = pd.date_range(\"2000-01-01\", periods = 2, freq = \"W-WED\") \n",
    "\n",
    "df1 = pd.DataFrame(np.random.standard_normal((2,4)), index=dates, columns=[\"Colorado\", \"Texas\", \"New York\", \"Ohio\"])\n",
    "\n",
    "print(df1)\n",
    "\n",
    "df1_daily = df1.resample(\"D\").asfreq()  # Only one value \n",
    "print(df1_daily)\n",
    "\n",
    "df1_daily = df1.resample(\"D\").ffill()  # Only one value \n",
    "print(df1_daily)\n",
    "\n",
    "df1_daily = df1.resample(\"D\").bfill()  # Only one value \n",
    "print(df1_daily)\n",
    "\n",
    "print(type(df1.resample(\"D\"))) # DatetimeIndexResampler\n",
    "\n"
   ]
  },
  {
   "cell_type": "code",
   "execution_count": 69,
   "id": "6e32eca8",
   "metadata": {},
   "outputs": [
    {
     "name": "stdout",
     "output_type": "stream",
     "text": [
      "         Colorado     Texas  New York      Ohio\n",
      "2000-01  0.015151  0.953852 -0.995711  0.000087\n",
      "2000-02 -0.151977 -0.350934 -1.045689  0.538672\n",
      "2000-03  0.372300  0.512544 -0.169855  0.468751\n",
      "2000-04  0.224493 -1.024273  0.874761 -0.283475\n",
      "2000-05 -1.760811  1.386356 -0.110558 -0.415624\n",
      "      Colorado     Texas  New York      Ohio\n",
      "2000  0.251712  0.216944 -0.213896  0.337844\n",
      "2001  0.014047  0.006086 -0.149293  0.349545\n",
      "        Colorado     Texas  New York      Ohio\n",
      "2000Q1  0.251712  0.216944 -0.213896  0.337844\n",
      "2000Q2  0.251712  0.216944 -0.213896  0.337844\n",
      "2000Q3  0.251712  0.216944 -0.213896  0.337844\n",
      "2000Q4  0.251712  0.216944 -0.213896  0.337844\n",
      "2001Q1  0.014047  0.006086 -0.149293  0.349545\n",
      "2001Q2  0.014047  0.006086 -0.149293  0.349545\n",
      "2001Q3  0.014047  0.006086 -0.149293  0.349545\n",
      "2001Q4  0.014047  0.006086 -0.149293  0.349545\n",
      "        Colorado     Texas  New York      Ohio\n",
      "2000Q1  0.251712  0.216944 -0.213896  0.337844\n",
      "2000Q2  0.014047  0.006086 -0.149293  0.349545\n",
      "2000Q3  0.014047  0.006086 -0.149293  0.349545\n",
      "2000Q4  0.014047  0.006086 -0.149293  0.349545\n",
      "2001Q1  0.014047  0.006086 -0.149293  0.349545\n",
      "2001Q2       NaN       NaN       NaN       NaN\n",
      "2001Q3       NaN       NaN       NaN       NaN\n",
      "2001Q4       NaN       NaN       NaN       NaN\n",
      "        Colorado     Texas  New York      Ohio\n",
      "2000Q1  0.251712  0.216944 -0.213896  0.337844\n",
      "2000Q2       NaN       NaN       NaN       NaN\n",
      "2000Q3       NaN       NaN       NaN       NaN\n",
      "2000Q4       NaN       NaN       NaN       NaN\n",
      "2001Q1  0.014047  0.006086 -0.149293  0.349545\n",
      "2001Q2       NaN       NaN       NaN       NaN\n",
      "2001Q3       NaN       NaN       NaN       NaN\n",
      "2001Q4       NaN       NaN       NaN       NaN\n",
      "        Colorado     Texas  New York      Ohio\n",
      "2000Q4  0.251712  0.216944 -0.213896  0.337844\n",
      "2001Q1       NaN       NaN       NaN       NaN\n",
      "2001Q2       NaN       NaN       NaN       NaN\n",
      "2001Q3       NaN       NaN       NaN       NaN\n",
      "2001Q4  0.014047  0.006086 -0.149293  0.349545\n",
      "        Colorado     Texas  New York      Ohio\n",
      "2000Q4  0.251712  0.216944 -0.213896  0.337844\n",
      "2001Q1  0.014047  0.006086 -0.149293  0.349545\n",
      "2001Q2  0.014047  0.006086 -0.149293  0.349545\n",
      "2001Q3  0.014047  0.006086 -0.149293  0.349545\n",
      "2001Q4  0.014047  0.006086 -0.149293  0.349545\n"
     ]
    }
   ],
   "source": [
    "# Resampling with periods\n",
    "\n",
    "dates = pd.period_range(\"1-2000\", \"12-2001\", freq = \"M\") \n",
    "\n",
    "df1 = pd.DataFrame(np.random.standard_normal((24,4)), index=dates, columns=[\"Colorado\", \"Texas\", \"New York\", \"Ohio\"])\n",
    "\n",
    "print(df1.head())\n",
    "\n",
    "annual_df = df1.resample(\"A-DEC\").mean()  # Downsampling periods\n",
    "print(annual_df)\n",
    "\n",
    "quarterly_df = annual_df.resample(\"Q-DEC\").ffill()  # Downsampling periods\n",
    "print(quarterly_df)\n",
    "\n",
    "quarterly_df = annual_df.resample(\"Q-DEC\").bfill()  # Downsampling periods\n",
    "print(quarterly_df)\n",
    "\n",
    "quarterly_df = annual_df.resample(\"Q-DEC\").asfreq()  # Downsampling periods\n",
    "print(quarterly_df)\n",
    "\n",
    "quarterly_df = annual_df.resample(\"Q-DEC\", convention='end').asfreq()  # Downsampling periods\n",
    "print(quarterly_df)\n",
    "\n",
    "quarterly_df = annual_df.resample(\"Q-DEC\", convention='end').bfill()  # Downsampling periods\n",
    "print(quarterly_df)"
   ]
  },
  {
   "cell_type": "code",
   "execution_count": null,
   "id": "bcff635e",
   "metadata": {},
   "outputs": [],
   "source": []
  }
 ],
 "metadata": {
  "kernelspec": {
   "display_name": "Python 3 (ipykernel)",
   "language": "python",
   "name": "python3"
  },
  "language_info": {
   "codemirror_mode": {
    "name": "ipython",
    "version": 3
   },
   "file_extension": ".py",
   "mimetype": "text/x-python",
   "name": "python",
   "nbconvert_exporter": "python",
   "pygments_lexer": "ipython3",
   "version": "3.9.5"
  }
 },
 "nbformat": 4,
 "nbformat_minor": 5
}
